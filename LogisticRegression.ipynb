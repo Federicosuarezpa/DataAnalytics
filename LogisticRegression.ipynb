{
 "cells": [
  {
   "cell_type": "code",
   "execution_count": 3,
   "id": "08a9f777",
   "metadata": {},
   "outputs": [],
   "source": [
    "import pandas as pd\n",
    "import numpy as np\n",
    "import matplotlib.pyplot as plt\n",
    "import seaborn as sns\n",
    "from sklearn.feature_extraction.text import CountVectorizer\n",
    "from sklearn.feature_extraction.text import TfidfVectorizer\n",
    "from sklearn.linear_model import LogisticRegression\n",
    "from sklearn.model_selection import train_test_split\n",
    "from sklearn.dummy import DummyClassifier\n",
    "from string import punctuation\n",
    "from sklearn import svm\n",
    "from nltk.corpus import stopwords\n",
    "from nltk.stem import WordNetLemmatizer\n",
    "import nltk\n",
    "from nltk import ngrams\n",
    "from itertools import chain\n",
    "from wordcloud import WordCloud"
   ]
  },
  {
   "cell_type": "code",
   "execution_count": 4,
   "id": "ff3f063f",
   "metadata": {},
   "outputs": [
    {
     "data": {
      "text/html": [
       "<div>\n",
       "<style scoped>\n",
       "    .dataframe tbody tr th:only-of-type {\n",
       "        vertical-align: middle;\n",
       "    }\n",
       "\n",
       "    .dataframe tbody tr th {\n",
       "        vertical-align: top;\n",
       "    }\n",
       "\n",
       "    .dataframe thead th {\n",
       "        text-align: right;\n",
       "    }\n",
       "</style>\n",
       "<table border=\"1\" class=\"dataframe\">\n",
       "  <thead>\n",
       "    <tr style=\"text-align: right;\">\n",
       "      <th></th>\n",
       "      <th>Id</th>\n",
       "      <th>ProductId</th>\n",
       "      <th>UserId</th>\n",
       "      <th>ProfileName</th>\n",
       "      <th>HelpfulnessNumerator</th>\n",
       "      <th>HelpfulnessDenominator</th>\n",
       "      <th>Score</th>\n",
       "      <th>Time</th>\n",
       "      <th>Summary</th>\n",
       "      <th>Text</th>\n",
       "      <th>clean_text</th>\n",
       "      <th>date</th>\n",
       "      <th>sentiment</th>\n",
       "      <th>Helpful %</th>\n",
       "      <th>% Upvote</th>\n",
       "    </tr>\n",
       "  </thead>\n",
       "  <tbody>\n",
       "    <tr>\n",
       "      <th>0</th>\n",
       "      <td>1</td>\n",
       "      <td>B001E4KFG0</td>\n",
       "      <td>A3SGXH7AUHU8GW</td>\n",
       "      <td>delmartian</td>\n",
       "      <td>1</td>\n",
       "      <td>1</td>\n",
       "      <td>5</td>\n",
       "      <td>1303862400</td>\n",
       "      <td>Good Quality Dog Food</td>\n",
       "      <td>I have bought several of the Vitality canned d...</td>\n",
       "      <td>bought several vitality canned dog food produc...</td>\n",
       "      <td>2011-04-27</td>\n",
       "      <td>1</td>\n",
       "      <td>1.0</td>\n",
       "      <td>80-100%</td>\n",
       "    </tr>\n",
       "    <tr>\n",
       "      <th>1</th>\n",
       "      <td>2</td>\n",
       "      <td>B00813GRG4</td>\n",
       "      <td>A1D87F6ZCVE5NK</td>\n",
       "      <td>dll pa</td>\n",
       "      <td>0</td>\n",
       "      <td>0</td>\n",
       "      <td>1</td>\n",
       "      <td>1346976000</td>\n",
       "      <td>Not as Advertised</td>\n",
       "      <td>Product arrived labeled as Jumbo Salted Peanut...</td>\n",
       "      <td>product arrived labeled jumbo salted peanuts p...</td>\n",
       "      <td>2012-09-07</td>\n",
       "      <td>-1</td>\n",
       "      <td>-1.0</td>\n",
       "      <td>Empty</td>\n",
       "    </tr>\n",
       "    <tr>\n",
       "      <th>2</th>\n",
       "      <td>3</td>\n",
       "      <td>B000LQOCH0</td>\n",
       "      <td>ABXLMWJIXXAIN</td>\n",
       "      <td>Natalia Corres \"Natalia Corres\"</td>\n",
       "      <td>1</td>\n",
       "      <td>1</td>\n",
       "      <td>4</td>\n",
       "      <td>1219017600</td>\n",
       "      <td>\"Delight\" says it all</td>\n",
       "      <td>This is a confection that has been around a fe...</td>\n",
       "      <td>confection around centuries light pillowy citr...</td>\n",
       "      <td>2008-08-18</td>\n",
       "      <td>1</td>\n",
       "      <td>1.0</td>\n",
       "      <td>80-100%</td>\n",
       "    </tr>\n",
       "    <tr>\n",
       "      <th>3</th>\n",
       "      <td>4</td>\n",
       "      <td>B000UA0QIQ</td>\n",
       "      <td>A395BORC6FGVXV</td>\n",
       "      <td>Karl</td>\n",
       "      <td>3</td>\n",
       "      <td>3</td>\n",
       "      <td>2</td>\n",
       "      <td>1307923200</td>\n",
       "      <td>Cough Medicine</td>\n",
       "      <td>If you are looking for the secret ingredient i...</td>\n",
       "      <td>looking secret ingredient robitussin believe f...</td>\n",
       "      <td>2011-06-13</td>\n",
       "      <td>-1</td>\n",
       "      <td>1.0</td>\n",
       "      <td>80-100%</td>\n",
       "    </tr>\n",
       "    <tr>\n",
       "      <th>4</th>\n",
       "      <td>5</td>\n",
       "      <td>B006K2ZZ7K</td>\n",
       "      <td>A1UQRSCLF8GW1T</td>\n",
       "      <td>Michael D. Bigham \"M. Wassir\"</td>\n",
       "      <td>0</td>\n",
       "      <td>0</td>\n",
       "      <td>5</td>\n",
       "      <td>1350777600</td>\n",
       "      <td>Great taffy</td>\n",
       "      <td>Great taffy at a great price.  There was a wid...</td>\n",
       "      <td>great taffy great price wide assortment yummy ...</td>\n",
       "      <td>2012-10-21</td>\n",
       "      <td>1</td>\n",
       "      <td>-1.0</td>\n",
       "      <td>Empty</td>\n",
       "    </tr>\n",
       "  </tbody>\n",
       "</table>\n",
       "</div>"
      ],
      "text/plain": [
       "   Id   ProductId          UserId                      ProfileName  \\\n",
       "0   1  B001E4KFG0  A3SGXH7AUHU8GW                       delmartian   \n",
       "1   2  B00813GRG4  A1D87F6ZCVE5NK                           dll pa   \n",
       "2   3  B000LQOCH0   ABXLMWJIXXAIN  Natalia Corres \"Natalia Corres\"   \n",
       "3   4  B000UA0QIQ  A395BORC6FGVXV                             Karl   \n",
       "4   5  B006K2ZZ7K  A1UQRSCLF8GW1T    Michael D. Bigham \"M. Wassir\"   \n",
       "\n",
       "   HelpfulnessNumerator  HelpfulnessDenominator  Score        Time  \\\n",
       "0                     1                       1      5  1303862400   \n",
       "1                     0                       0      1  1346976000   \n",
       "2                     1                       1      4  1219017600   \n",
       "3                     3                       3      2  1307923200   \n",
       "4                     0                       0      5  1350777600   \n",
       "\n",
       "                 Summary                                               Text  \\\n",
       "0  Good Quality Dog Food  I have bought several of the Vitality canned d...   \n",
       "1      Not as Advertised  Product arrived labeled as Jumbo Salted Peanut...   \n",
       "2  \"Delight\" says it all  This is a confection that has been around a fe...   \n",
       "3         Cough Medicine  If you are looking for the secret ingredient i...   \n",
       "4            Great taffy  Great taffy at a great price.  There was a wid...   \n",
       "\n",
       "                                          clean_text        date  sentiment  \\\n",
       "0  bought several vitality canned dog food produc...  2011-04-27          1   \n",
       "1  product arrived labeled jumbo salted peanuts p...  2012-09-07         -1   \n",
       "2  confection around centuries light pillowy citr...  2008-08-18          1   \n",
       "3  looking secret ingredient robitussin believe f...  2011-06-13         -1   \n",
       "4  great taffy great price wide assortment yummy ...  2012-10-21          1   \n",
       "\n",
       "   Helpful % % Upvote  \n",
       "0        1.0  80-100%  \n",
       "1       -1.0    Empty  \n",
       "2        1.0  80-100%  \n",
       "3        1.0  80-100%  \n",
       "4       -1.0    Empty  "
      ]
     },
     "execution_count": 4,
     "metadata": {},
     "output_type": "execute_result"
    }
   ],
   "source": [
    "odf = pd.read_csv('Processed_reviews.csv')\n",
    "odf['Helpful %'] = np.where(odf['HelpfulnessDenominator'] > 0, odf['HelpfulnessNumerator'] / odf['HelpfulnessDenominator'], -1)\n",
    "odf['% Upvote'] = pd.cut(odf['Helpful %'], bins = [-1, 0, 0.2, 0.4, 0.6, 0.8, 1.0], labels = ['Empty', '0-20%', '20-40%', '40-60%', '60-80%', '80-100%'], include_lowest = True)\n",
    "odf.head()"
   ]
  },
  {
   "cell_type": "code",
   "execution_count": 5,
   "id": "04e884ef",
   "metadata": {},
   "outputs": [
    {
     "data": {
      "text/plain": [
       "Text(0.5, 1.0, 'How helpful users find among user scores')"
      ]
     },
     "execution_count": 5,
     "metadata": {},
     "output_type": "execute_result"
    },
    {
     "data": {
      "image/png": "[encoded data removed]",
      "text/plain": [
       "<Figure size 1080x720 with 2 Axes>"
      ]
     },
     "metadata": {
      "needs_background": "light"
     },
     "output_type": "display_data"
    }
   ],
   "source": [
    "df_s = odf.groupby(['Score', '% Upvote']).agg({'Id': 'count'})\n",
    "df_s = df_s.unstack()\n",
    "df_s.columns = df_s.columns.get_level_values(1)\n",
    "fig = plt.figure(figsize=(15,10))\n",
    "\n",
    "sns.heatmap(df_s[df_s.columns[::-1]].T, cmap = 'YlGnBu', linewidths=.5, annot = True, fmt = 'd', cbar_kws={'label': '# reviews'})\n",
    "plt.yticks(rotation=0)\n",
    "plt.title('How helpful users find among user scores')"
   ]
  },
  {
   "cell_type": "code",
   "execution_count": 6,
   "id": "3527ec08",
   "metadata": {},
   "outputs": [],
   "source": [
    "df = odf[odf['Score'] != 3]\n",
    "X = df['Text']\n",
    "y_dict = {1:0, 2:0, 4:1, 5:1}\n",
    "y = df['Score'].map(y_dict)"
   ]
  },
  {
   "cell_type": "code",
   "execution_count": 7,
   "id": "612d4eca",
   "metadata": {},
   "outputs": [
    {
     "name": "stdout",
     "output_type": "stream",
     "text": [
      "# features: 114966\n",
      "# train records: 273123\n",
      "# test records: 91041\n"
     ]
    },
    {
     "name": "stderr",
     "output_type": "stream",
     "text": [
      "/Users/federicosuarezpalavecino/opt/anaconda3/lib/python3.9/site-packages/sklearn/linear_model/_logistic.py:814: ConvergenceWarning: lbfgs failed to converge (status=1):\n",
      "STOP: TOTAL NO. of ITERATIONS REACHED LIMIT.\n",
      "\n",
      "Increase the number of iterations (max_iter) or scale the data as shown in:\n",
      "    https://scikit-learn.org/stable/modules/preprocessing.html\n",
      "Please also refer to the documentation for alternative solver options:\n",
      "    https://scikit-learn.org/stable/modules/linear_model.html#logistic-regression\n",
      "  n_iter_i = _check_optimize_result(\n",
      "/Users/federicosuarezpalavecino/opt/anaconda3/lib/python3.9/site-packages/sklearn/utils/deprecation.py:87: FutureWarning: Function get_feature_names is deprecated; get_feature_names is deprecated in 1.0 and will be removed in 1.2. Please use get_feature_names_out instead.\n",
      "  warnings.warn(msg, category=FutureWarning)\n"
     ]
    },
    {
     "name": "stdout",
     "output_type": "stream",
     "text": [
      "Model Accuracy: 0.9247481903757647\n",
      "\n",
      "-Top 20 positive-\n",
      "      Word  Coefficient\n",
      "pleasantly     3.948091\n",
      " addicting     2.998876\n",
      " skeptical     2.845832\n",
      "  downside     2.723795\n",
      "  drawback     2.577899\n",
      "    delish     2.222197\n",
      "    divine     2.197375\n",
      "    brings     2.195588\n",
      " delighted     2.158357\n",
      "   easiest     2.093529\n",
      "    solved     2.084031\n",
      "   healing     2.027786\n",
      " addictive     2.020248\n",
      " satisfies     1.996917\n",
      "    finest     1.985050\n",
      " delicious     1.984491\n",
      "      whim     1.931909\n",
      "   welcome     1.926052\n",
      "    unsure     1.909563\n",
      "    hooked     1.908935\n",
      "\n",
      "-Top 20 negative-\n",
      "          Word  Coefficient\n",
      "       defeats    -2.207035\n",
      "       culprit    -2.219062\n",
      " dissapointing    -2.336440\n",
      "     redeeming    -2.346222\n",
      "     cancelled    -2.382177\n",
      "           ick    -2.384546\n",
      "      canceled    -2.425656\n",
      "        lacked    -2.465104\n",
      "    returnable    -2.480890\n",
      "           ugh    -2.510001\n",
      "disappointment    -2.580091\n",
      "        ripoff    -2.709497\n",
      "   embarrassed    -2.724836\n",
      "   unappealing    -2.823412\n",
      "         worst    -2.856659\n",
      " disappointing    -2.861732\n",
      "      mediocre    -2.921742\n",
      "     deceptive    -3.032007\n",
      "   undrinkable    -3.210533\n",
      "  unacceptable    -3.429328\n"
     ]
    }
   ],
   "source": [
    "c = CountVectorizer(stop_words = 'english')\n",
    "\n",
    "def text_fit(X, y, model,clf_model,coef_show=1):\n",
    "    \n",
    "    X_c = model.fit_transform(X)\n",
    "    print('# features: {}'.format(X_c.shape[1]))\n",
    "    X_train, X_test, y_train, y_test = train_test_split(X_c, y, random_state=0)\n",
    "    print('# train records: {}'.format(X_train.shape[0]))\n",
    "    print('# test records: {}'.format(X_test.shape[0]))\n",
    "    clf = clf_model.fit(X_train, y_train)\n",
    "    acc = clf.score(X_test, y_test)\n",
    "    print ('Model Accuracy: {}'.format(acc))\n",
    "    \n",
    "    if coef_show == 1: \n",
    "        w = model.get_feature_names()\n",
    "        coef = clf.coef_.tolist()[0]\n",
    "        coeff_df = pd.DataFrame({'Word' : w, 'Coefficient' : coef})\n",
    "        coeff_df = coeff_df.sort_values(['Coefficient', 'Word'], ascending=[0, 1])\n",
    "        print('')\n",
    "        print('-Top 20 positive-')\n",
    "        print(coeff_df.head(20).to_string(index=False))\n",
    "        print('')\n",
    "        print('-Top 20 negative-')        \n",
    "        print(coeff_df.tail(20).to_string(index=False))\n",
    "    \n",
    "    \n",
    "text_fit(X, y, c, LogisticRegression())"
   ]
  },
  {
   "cell_type": "code",
   "execution_count": 8,
   "id": "d46be83d",
   "metadata": {},
   "outputs": [
    {
     "name": "stdout",
     "output_type": "stream",
     "text": [
      "# features: 114966\n",
      "# train records: 273123\n",
      "# test records: 91041\n",
      "Model Accuracy: 0.8422029634999616\n"
     ]
    }
   ],
   "source": [
    "text_fit(X, y, c, DummyClassifier(),0)\n"
   ]
  },
  {
   "cell_type": "code",
   "execution_count": 9,
   "id": "98de1c96",
   "metadata": {},
   "outputs": [
    {
     "name": "stdout",
     "output_type": "stream",
     "text": [
      "# features: 114966\n",
      "# train records: 273123\n",
      "# test records: 91041\n"
     ]
    },
    {
     "name": "stderr",
     "output_type": "stream",
     "text": [
      "/Users/federicosuarezpalavecino/opt/anaconda3/lib/python3.9/site-packages/sklearn/linear_model/_logistic.py:814: ConvergenceWarning: lbfgs failed to converge (status=1):\n",
      "STOP: TOTAL NO. of ITERATIONS REACHED LIMIT.\n",
      "\n",
      "Increase the number of iterations (max_iter) or scale the data as shown in:\n",
      "    https://scikit-learn.org/stable/modules/preprocessing.html\n",
      "Please also refer to the documentation for alternative solver options:\n",
      "    https://scikit-learn.org/stable/modules/linear_model.html#logistic-regression\n",
      "  n_iter_i = _check_optimize_result(\n",
      "/Users/federicosuarezpalavecino/opt/anaconda3/lib/python3.9/site-packages/sklearn/utils/deprecation.py:87: FutureWarning: Function get_feature_names is deprecated; get_feature_names is deprecated in 1.0 and will be removed in 1.2. Please use get_feature_names_out instead.\n",
      "  warnings.warn(msg, category=FutureWarning)\n"
     ]
    },
    {
     "name": "stdout",
     "output_type": "stream",
     "text": [
      "Model Accuracy: 0.9264177678188947\n",
      "\n",
      "-Top 20 positive-\n",
      "      Word  Coefficient\n",
      "     great    13.674722\n",
      " delicious    12.203017\n",
      "      best    11.469540\n",
      "   perfect    10.110406\n",
      " excellent     9.263702\n",
      "    highly     8.924551\n",
      "     loves     8.593619\n",
      " wonderful     8.110922\n",
      "      love     8.008768\n",
      "   amazing     7.445034\n",
      "      good     7.391174\n",
      "   awesome     7.225314\n",
      "   pleased     6.622956\n",
      "    smooth     6.587026\n",
      "  favorite     6.564346\n",
      "      nice     6.463921\n",
      "      glad     6.340114\n",
      "pleasantly     6.328583\n",
      "    hooked     6.288312\n",
      "     yummy     6.096701\n",
      "\n",
      "-Top 20 negative-\n",
      "          Word  Coefficient\n",
      "           rip    -5.366685\n",
      "         gross    -5.557286\n",
      "         worse    -5.843388\n",
      "          yuck    -5.932599\n",
      "          weak    -5.972295\n",
      "    disgusting    -6.049012\n",
      "         waste    -6.156237\n",
      "         bland    -6.177452\n",
      "     tasteless    -6.195804\n",
      "         stale    -6.409127\n",
      " unfortunately    -6.735148\n",
      "         threw    -6.778351\n",
      "        return    -6.808908\n",
      "      horrible    -7.454994\n",
      "  disappointed    -8.145279\n",
      "         awful    -8.363342\n",
      "disappointment    -8.403830\n",
      "      terrible    -8.856863\n",
      " disappointing    -9.707294\n",
      "         worst   -11.228695\n"
     ]
    }
   ],
   "source": [
    "tfidf = TfidfVectorizer(stop_words = 'english')\n",
    "text_fit(X, y, tfidf, LogisticRegression())"
   ]
  },
  {
   "cell_type": "code",
   "execution_count": 10,
   "id": "4367e324",
   "metadata": {},
   "outputs": [
    {
     "name": "stdout",
     "output_type": "stream",
     "text": [
      "# features: 3933091\n",
      "# train records: 273123\n",
      "# test records: 91041\n"
     ]
    },
    {
     "name": "stderr",
     "output_type": "stream",
     "text": [
      "/Users/federicosuarezpalavecino/opt/anaconda3/lib/python3.9/site-packages/sklearn/linear_model/_logistic.py:814: ConvergenceWarning: lbfgs failed to converge (status=1):\n",
      "STOP: TOTAL NO. of ITERATIONS REACHED LIMIT.\n",
      "\n",
      "Increase the number of iterations (max_iter) or scale the data as shown in:\n",
      "    https://scikit-learn.org/stable/modules/preprocessing.html\n",
      "Please also refer to the documentation for alternative solver options:\n",
      "    https://scikit-learn.org/stable/modules/linear_model.html#logistic-regression\n",
      "  n_iter_i = _check_optimize_result(\n",
      "/Users/federicosuarezpalavecino/opt/anaconda3/lib/python3.9/site-packages/sklearn/utils/deprecation.py:87: FutureWarning: Function get_feature_names is deprecated; get_feature_names is deprecated in 1.0 and will be removed in 1.2. Please use get_feature_names_out instead.\n",
      "  warnings.warn(msg, category=FutureWarning)\n"
     ]
    },
    {
     "name": "stdout",
     "output_type": "stream",
     "text": [
      "Model Accuracy: 0.9249019672455268\n",
      "\n",
      "-Top 20 positive-\n",
      "            Word  Coefficient\n",
      "           great    20.483519\n",
      "            best    16.794376\n",
      "       delicious    16.353764\n",
      "         perfect    13.236566\n",
      "            love    12.501093\n",
      "       excellent    12.030375\n",
      "           loves    11.743971\n",
      "            good    11.137221\n",
      "       wonderful    10.746955\n",
      "        favorite     9.650749\n",
      "            nice     9.641179\n",
      "         amazing     9.025692\n",
      "            easy     8.731530\n",
      "         awesome     8.475309\n",
      "           tasty     8.402272\n",
      "           happy     8.378019\n",
      "          highly     8.179111\n",
      "         pleased     8.141946\n",
      "          smooth     7.865076\n",
      "highly recommend     7.728068\n",
      "\n",
      "-Top 20 negative-\n",
      "          Word  Coefficient\n",
      "           bad    -7.396653\n",
      "         waste    -7.402371\n",
      "     tasteless    -7.486853\n",
      "         worse    -7.496572\n",
      "       thought    -7.520068\n",
      "    disgusting    -7.670961\n",
      "         money    -7.778458\n",
      "         bland    -8.645561\n",
      "          weak    -8.653475\n",
      "         threw    -8.780093\n",
      "         stale    -9.565359\n",
      "        return    -9.639586\n",
      " unfortunately    -9.845567\n",
      "disappointment    -9.986650\n",
      "      horrible   -10.399925\n",
      "         awful   -11.228364\n",
      "      terrible   -11.925349\n",
      " disappointing   -12.154852\n",
      "         worst   -13.748160\n",
      "  disappointed   -13.902908\n"
     ]
    }
   ],
   "source": [
    "tfidf_n = TfidfVectorizer(ngram_range=(1,2),stop_words = 'english')\n",
    "text_fit(X, y, tfidf_n, LogisticRegression())"
   ]
  },
  {
   "cell_type": "code",
   "execution_count": 16,
   "id": "2b46b8ba",
   "metadata": {},
   "outputs": [
    {
     "name": "stdout",
     "output_type": "stream",
     "text": [
      "Class distribution:\n",
      "1.0    108242\n",
      "0.0      1781\n",
      "Name: % Upvote, dtype: int64\n"
     ]
    }
   ],
   "source": [
    "df = df[df['Score'] == 5]\n",
    "df = df[df['% Upvote'].isin(['0-20%', '20-40%', '60-80%', '80-100%'])]\n",
    "df.shape\n",
    "\n",
    "X = df['Text']\n",
    "y_dict = {'0-20%': 0, '20-40%': 0, '60-80%': 1, '80-100%': 1}\n",
    "y = df['% Upvote'].map(y_dict)\n",
    "\n",
    "print('Class distribution:')\n",
    "print(y.value_counts())"
   ]
  },
  {
   "cell_type": "code",
   "execution_count": 22,
   "id": "e520ca12",
   "metadata": {},
   "outputs": [
    {
     "name": "stdout",
     "output_type": "stream",
     "text": [
      "Percentage of upvote transactions:  0.5\n",
      "Percentage of downvote transactions:  0.5\n",
      "Total number of records in resampled data:  3562\n"
     ]
    }
   ],
   "source": [
    "df_s = pd.DataFrame(data = [X,y]).T\n",
    "\n",
    "Downvote_records = len(df_s[df_s['% Upvote'] == 0])\n",
    "Downvote_indices = np.array(df_s[df_s['% Upvote'] == 0].index)\n",
    "\n",
    "Upvote_indices = df_s[df_s['% Upvote'] == 1].index\n",
    "\n",
    "random_upvote_indices = np.random.choice(Upvote_indices, Downvote_records, replace = False)\n",
    "random_upvote_indices = np.array(random_upvote_indices)\n",
    "\n",
    "under_sample_indices = np.concatenate([Downvote_indices,random_upvote_indices])\n",
    "\n",
    "under_sample_data = df_s.loc[under_sample_indices, :]\n",
    "X_u = under_sample_data['Text']\n",
    "under_sample_data['% Upvote'] = under_sample_data['% Upvote'].astype(int)\n",
    "y_u = under_sample_data['% Upvote']\n",
    "\n",
    "\n",
    "print(\"Percentage of upvote transactions: \", len(under_sample_data[under_sample_data['% Upvote'] == 1])/len(under_sample_data))\n",
    "print(\"Percentage of downvote transactions: \", len(under_sample_data[under_sample_data['% Upvote'] == 0])/len(under_sample_data))\n",
    "print(\"Total number of records in resampled data: \", len(under_sample_data))"
   ]
  },
  {
   "cell_type": "code",
   "execution_count": 23,
   "id": "21fa416d",
   "metadata": {},
   "outputs": [
    {
     "name": "stdout",
     "output_type": "stream",
     "text": [
      "# features: 14295\n",
      "# train records: 2671\n",
      "# test records: 891\n",
      "Model Accuracy: 0.621773288439955\n",
      "\n",
      "-Top 20 positive-\n",
      "        Word  Coefficient\n",
      "        kick     1.197630\n",
      "    dressing     1.130411\n",
      "   favorites     1.106286\n",
      "       solid     1.085131\n",
      "       hours     1.084637\n",
      "      keurig     1.033077\n",
      "      plenty     1.026836\n",
      "supermarkets     1.019970\n",
      "       soups     1.016475\n",
      "        pops     1.013296\n",
      "       words     1.000824\n",
      "        heat     0.992495\n",
      "        soon     0.956610\n",
      "   allergies     0.936002\n",
      "      liking     0.927770\n",
      "   addicting     0.913016\n",
      "        iced     0.904051\n",
      "       fresh     0.898393\n",
      "     morning     0.890929\n",
      "    compared     0.886401\n",
      "\n",
      "-Top 20 negative-\n",
      "       Word  Coefficient\n",
      "     saving    -0.869928\n",
      "     vacuum    -0.878150\n",
      "       feel    -0.893932\n",
      "      gonna    -0.894348\n",
      "       zico    -0.897497\n",
      "    pleased    -0.908103\n",
      "      money    -0.912715\n",
      "     yellow    -0.921072\n",
      "      mixed    -0.924727\n",
      "       face    -0.933231\n",
      "    thought    -0.949247\n",
      "       mary    -0.963745\n",
      "    dollars    -0.987759\n",
      "     review    -1.044536\n",
      "   brooklyn    -1.084408\n",
      "     doctor    -1.118721\n",
      "traditional    -1.203322\n",
      "     newman    -1.214891\n",
      "     middle    -1.223565\n",
      "     lipton    -1.293642\n"
     ]
    },
    {
     "name": "stderr",
     "output_type": "stream",
     "text": [
      "/Users/federicosuarezpalavecino/opt/anaconda3/lib/python3.9/site-packages/sklearn/linear_model/_logistic.py:814: ConvergenceWarning: lbfgs failed to converge (status=1):\n",
      "STOP: TOTAL NO. of ITERATIONS REACHED LIMIT.\n",
      "\n",
      "Increase the number of iterations (max_iter) or scale the data as shown in:\n",
      "    https://scikit-learn.org/stable/modules/preprocessing.html\n",
      "Please also refer to the documentation for alternative solver options:\n",
      "    https://scikit-learn.org/stable/modules/linear_model.html#logistic-regression\n",
      "  n_iter_i = _check_optimize_result(\n",
      "/Users/federicosuarezpalavecino/opt/anaconda3/lib/python3.9/site-packages/sklearn/utils/deprecation.py:87: FutureWarning: Function get_feature_names is deprecated; get_feature_names is deprecated in 1.0 and will be removed in 1.2. Please use get_feature_names_out instead.\n",
      "  warnings.warn(msg, category=FutureWarning)\n"
     ]
    }
   ],
   "source": [
    "c = CountVectorizer(stop_words = 'english')\n",
    "\n",
    "text_fit(X_u, y_u, c, LogisticRegression())"
   ]
  },
  {
   "cell_type": "code",
   "execution_count": 24,
   "id": "62ee9610",
   "metadata": {},
   "outputs": [
    {
     "name": "stdout",
     "output_type": "stream",
     "text": [
      "# features: 117325\n",
      "# train records: 2671\n",
      "# test records: 891\n",
      "Model Accuracy: 0.621773288439955\n",
      "\n",
      "-Top 20 positive-\n",
      "   Word  Coefficient\n",
      "   food     1.666185\n",
      "     ve     1.481765\n",
      "  tried     1.415026\n",
      "    bag     1.201081\n",
      "   milk     1.168276\n",
      "    mix     1.132859\n",
      " flavor     1.085201\n",
      "perfect     1.081519\n",
      "  foods     1.029627\n",
      "  fresh     0.988251\n",
      "  pasta     0.980482\n",
      "  store     0.976233\n",
      "   rice     0.963183\n",
      "   year     0.951604\n",
      "  bread     0.925770\n",
      "    oil     0.899668\n",
      "popcorn     0.895123\n",
      "  loves     0.881524\n",
      " ginger     0.876894\n",
      "   just     0.851406\n",
      "\n",
      "-Top 20 negative-\n",
      "   Word  Coefficient\n",
      "   zico    -0.643086\n",
      "  wrong    -0.663440\n",
      "   feel    -0.665812\n",
      " review    -0.681130\n",
      "   good    -0.681649\n",
      "company    -0.682252\n",
      "    bar    -0.699103\n",
      " lipton    -0.700270\n",
      "thought    -0.709706\n",
      "pleased    -0.710731\n",
      " bottle    -0.711460\n",
      "    way    -0.771860\n",
      " treats    -0.794695\n",
      " newman    -0.804293\n",
      "   item    -0.844747\n",
      "service    -0.888882\n",
      "product    -1.021729\n",
      " coffee    -1.149035\n",
      "  water    -1.643512\n",
      "     br    -1.785989\n"
     ]
    },
    {
     "name": "stderr",
     "output_type": "stream",
     "text": [
      "/Users/federicosuarezpalavecino/opt/anaconda3/lib/python3.9/site-packages/sklearn/utils/deprecation.py:87: FutureWarning: Function get_feature_names is deprecated; get_feature_names is deprecated in 1.0 and will be removed in 1.2. Please use get_feature_names_out instead.\n",
      "  warnings.warn(msg, category=FutureWarning)\n"
     ]
    }
   ],
   "source": [
    "tfidf_n = TfidfVectorizer(ngram_range=(1,2),stop_words = 'english')\n",
    "\n",
    "text_fit(X_u, y_u, tfidf_n, LogisticRegression())"
   ]
  },
  {
   "cell_type": "code",
   "execution_count": 25,
   "id": "ac5c658d",
   "metadata": {},
   "outputs": [
    {
     "name": "stdout",
     "output_type": "stream",
     "text": [
      "Downvote score 5 comments examples:\n",
      "206      Hard to find the wintergreen smalls [sugar fre...\n",
      "4499     Wonderful, smooth, satisfying decaf coffee wit...\n",
      "7762     My husband is a big coffee drinker, and with a...\n",
      "11509    I love this coffee!  It has very good flavor f...\n",
      "13545    I have one doglet, a miniature schnauzer, who ...\n",
      "Name: Text, dtype: object\n",
      "Upvote score 5 comments examples\n",
      "263517    I love this spaghetti. I have been hoping to f...\n",
      "136597    I love LOVE this bread mix.  I'm one of those ...\n",
      "84227     Great for my dog and keeps her energized as we...\n",
      "373559    I have been eating this gluten free cereal for...\n",
      "275367    my pit bull loves it. no more stomach issues s...\n",
      "Name: Text, dtype: object\n"
     ]
    }
   ],
   "source": [
    "#pd.set_option('display.max_colwidth', -1)\n",
    "print('Downvote score 5 comments examples:')\n",
    "print(under_sample_data[under_sample_data['% Upvote']==0]['Text'].iloc[:100:20])\n",
    "print('Upvote score 5 comments examples')\n",
    "print(under_sample_data[under_sample_data['% Upvote']==1]['Text'].iloc[:100:20])"
   ]
  },
  {
   "cell_type": "code",
   "execution_count": 27,
   "id": "cf7a0101",
   "metadata": {},
   "outputs": [
    {
     "name": "stdout",
     "output_type": "stream",
     "text": [
      "% Upvote                  0          1\n",
      "word_count        77.537900  85.489613\n",
      "capital_count     17.555306  13.829309\n",
      "question_mark      0.175182   0.081976\n",
      "exclamation_mark   0.874789   0.953397\n",
      "punctuation       20.052779  18.403706\n"
     ]
    }
   ],
   "source": [
    "under_sample_data['word_count'] = under_sample_data['Text'].apply(lambda x: len(x.split()))\n",
    "under_sample_data['capital_count'] = under_sample_data['Text'].apply(lambda x: sum(1 for c in x if c.isupper()))\n",
    "under_sample_data['question_mark'] = under_sample_data['Text'].apply(lambda x: sum(1 for c in x if c == '?'))\n",
    "under_sample_data['exclamation_mark'] = under_sample_data['Text'].apply(lambda x: sum(1 for c in x if c == '!'))\n",
    "under_sample_data['punctuation'] = under_sample_data['Text'].apply(lambda x: sum(1 for c in x if c in punctuation))\n",
    "\n",
    "print(under_sample_data.groupby('% Upvote').agg({'word_count': 'mean', 'capital_count': 'mean', 'question_mark': 'mean', 'exclamation_mark': 'mean', 'punctuation': 'mean'}).T)\n",
    "\n",
    "X_num = under_sample_data[under_sample_data.columns.difference(['% Upvote', 'Text'])]\n",
    "y_num = under_sample_data['% Upvote']"
   ]
  },
  {
   "cell_type": "code",
   "execution_count": 28,
   "id": "da9ada15",
   "metadata": {},
   "outputs": [
    {
     "name": "stdout",
     "output_type": "stream",
     "text": [
      "Logistic Regression accuracy: 0.5881032547699214\n",
      "SVM accuracy: 0.6060606060606061\n"
     ]
    }
   ],
   "source": [
    "X_train, X_test, y_train, y_test = train_test_split(X_num, y_num, random_state=0)\n",
    "\n",
    "clf_lr = LogisticRegression().fit(X_train, y_train)\n",
    "acc_lr = clf_lr.score(X_test, y_test)\n",
    "print('Logistic Regression accuracy: {}'.format(acc_lr))\n",
    "\n",
    "clf_svm = svm.SVC().fit(X_train, y_train)\n",
    "acc_svm = clf_svm.score(X_test, y_test)\n",
    "print('SVM accuracy: {}'.format(acc_svm))"
   ]
  },
  {
   "cell_type": "code",
   "execution_count": 29,
   "id": "77fdaed4",
   "metadata": {},
   "outputs": [
    {
     "name": "stdout",
     "output_type": "stream",
     "text": [
      "                                                       Score count  Score mean\n",
      "UserId         ProfileName                                                    \n",
      "AY12DBB0U420B  Gary Peterson                                   329    4.659574\n",
      "A3OXHLG6DIBRW8 C. F. Hill \"CFH\"                                278    4.546763\n",
      "A281NPSIMI1C2R Rebecca of Amazon \"The Rebecca Review\"          259    4.787645\n",
      "A1YUL9PCJR3JTY O. Brown \"Ms. O. Khannah-Brown\"                 214    4.621495\n",
      "A1Z54EM24Y40LL c2                                              211    4.383886\n",
      "A2MUGFV2TDQ47K Lynrie \"Oh HELL no\"                             161    3.826087\n",
      "A3D6OI36USYOU1 Ghenghis                                        146    4.417808\n",
      "AZV26LP92E6WU  M. Hammond \"ColemanFlGuy\"                       129    4.852713\n",
      "AKMEY1BSHSDG7  J. Arena                                        119    4.747899\n",
      "A2GEZJHBV92EVR History buff                                    118    4.542373\n"
     ]
    }
   ],
   "source": [
    "df_user = odf.groupby(['UserId', 'ProfileName']).agg({'Score':['count', 'mean']})\n",
    "df_user.columns = df_user.columns.get_level_values(1)\n",
    "df_user.columns = ['Score count', 'Score mean']\n",
    "df_user = df_user.sort_values(by = 'Score count', ascending = False)\n",
    "print(df_user.head(10))"
   ]
  },
  {
   "cell_type": "code",
   "execution_count": 30,
   "id": "cd827c1d",
   "metadata": {},
   "outputs": [
    {
     "data": {
      "image/png": "[encoded data removed]",
      "text/plain": [
       "<Figure size 1080x720 with 1 Axes>"
      ]
     },
     "metadata": {
      "needs_background": "light"
     },
     "output_type": "display_data"
    }
   ],
   "source": [
    "def plot_user(UserId):\n",
    "    df_1user = odf[odf['UserId'] == UserId]['Score']\n",
    "    df_1user_plot = df_1user.value_counts(sort=False)\n",
    "    ax = df_1user_plot.plot(kind = 'bar', figsize = (15,10), title = 'Score distribution of user {} review'.format(odf[odf['UserId'] == UserId]['ProfileName'].iloc[0]))\n",
    "\n",
    "plot_user('A3OXHLG6DIBRW8')"
   ]
  }
 ],
 "metadata": {
  "kernelspec": {
   "display_name": "Python 3 (ipykernel)",
   "language": "python",
   "name": "python3"
  },
  "language_info": {
   "codemirror_mode": {
    "name": "ipython",
    "version": 3
   },
   "file_extension": ".py",
   "mimetype": "text/x-python",
   "name": "python",
   "nbconvert_exporter": "python",
   "pygments_lexer": "ipython3",
   "version": "3.9.12"
  }
 },
 "nbformat": 4,
 "nbformat_minor": 5
}
